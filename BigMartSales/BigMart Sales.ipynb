{
 "cells": [
  {
   "cell_type": "code",
   "execution_count": 6,
   "metadata": {
    "collapsed": false
   },
   "outputs": [
    {
     "name": "stdout",
     "output_type": "stream",
     "text": [
      "(8523, 12)\n",
      "Item_Identifier                 0\n",
      "Item_Weight                  1463\n",
      "Item_Fat_Content                0\n",
      "Item_Visibility                 0\n",
      "Item_Type                       0\n",
      "Item_MRP                        0\n",
      "Outlet_Identifier               0\n",
      "Outlet_Establishment_Year       0\n",
      "Outlet_Size                  2410\n",
      "Outlet_Location_Type            0\n",
      "Outlet_Type                     0\n",
      "Item_Outlet_Sales               0\n",
      "dtype: int64\n"
     ]
    }
   ],
   "source": [
    "import pandas as pd\n",
    "\n",
    "train_data = pd.read_csv('Data/Train_UWu5bXk.csv')\n",
    "train_data.describe()\n",
    "print train_data.shape\n",
    "print train_data.isnull().sum()"
   ]
  },
  {
   "cell_type": "code",
   "execution_count": 7,
   "metadata": {
    "collapsed": false,
    "scrolled": true
   },
   "outputs": [
    {
     "name": "stdout",
     "output_type": "stream",
     "text": [
      "(5681, 11)\n",
      "Item_Identifier                 0\n",
      "Item_Weight                   976\n",
      "Item_Fat_Content                0\n",
      "Item_Visibility                 0\n",
      "Item_Type                       0\n",
      "Item_MRP                        0\n",
      "Outlet_Identifier               0\n",
      "Outlet_Establishment_Year       0\n",
      "Outlet_Size                  1606\n",
      "Outlet_Location_Type            0\n",
      "Outlet_Type                     0\n",
      "dtype: int64\n"
     ]
    }
   ],
   "source": [
    "test_data = pd.read_csv('Data/Test_u94Q5KV.csv')\n",
    "test_data.describe()\n",
    "print test_data.shape\n",
    "print test_data.isnull().sum()"
   ]
  },
  {
   "cell_type": "code",
   "execution_count": 49,
   "metadata": {
    "collapsed": false
   },
   "outputs": [
    {
     "name": "stdout",
     "output_type": "stream",
     "text": [
      "Medium    2793\n",
      "Small     2388\n",
      "High       932\n",
      "Name: Outlet_Size, dtype: int64\n",
      "Supermarket Type1    5577\n",
      "Grocery Store        1083\n",
      "Supermarket Type3     935\n",
      "Supermarket Type2     928\n",
      "Name: Outlet_Type, dtype: int64\n",
      "Outlet_Type        Outlet_Identifier  Outlet_Size\n",
      "Grocery Store      OUT019             Small          528\n",
      "Supermarket Type1  OUT013             High           932\n",
      "                   OUT035             Small          930\n",
      "                   OUT046             Small          930\n",
      "                   OUT049             Medium         930\n",
      "Supermarket Type2  OUT018             Medium         928\n",
      "Supermarket Type3  OUT027             Medium         935\n",
      "dtype: int64\n"
     ]
    }
   ],
   "source": [
    "print train_data['Outlet_Size'].value_counts()\n",
    "print train_data['Outlet_Type'].value_counts()\n",
    "# print train_data.groupby('Outlet_Type').apply(lambda x: x['Outlet_Size'].mode())\n",
    "# print train_data[train_data['Outlet_Size'].apply(lambda x: x == 'High')]['Outlet_Type']\n",
    "\n",
    "print train_data.groupby(['Outlet_Type', 'Outlet_Identifier'])['Outlet_Size'].value_counts()"
   ]
  },
  {
   "cell_type": "code",
   "execution_count": 46,
   "metadata": {
    "collapsed": false
   },
   "outputs": [
    {
     "name": "stdout",
     "output_type": "stream",
     "text": [
      "Outlet_Identifier  Outlet_Type      \n",
      "OUT010             Grocery Store        555\n",
      "OUT017             Supermarket Type1    926\n",
      "OUT045             Supermarket Type1    929\n",
      "dtype: int64\n"
     ]
    }
   ],
   "source": [
    "print train_data[train_data['Outlet_Size'].isnull()].groupby('Outlet_Identifier')['Outlet_Type'].value_counts()"
   ]
  },
  {
   "cell_type": "code",
   "execution_count": 23,
   "metadata": {
    "collapsed": false
   },
   "outputs": [
    {
     "name": "stdout",
     "output_type": "stream",
     "text": [
      "   adult animal size  weight\n",
      "0  False    cat    S       8\n",
      "1  False    dog    S      10\n",
      "2  False    cat    M      11\n",
      "3  False   fish    M       1\n",
      "4  False    dog    M      20\n",
      "5   True    cat    L      12\n",
      "6   True    cat    L      12\n"
     ]
    },
    {
     "data": {
      "text/plain": [
       "animal   \n",
       "cat     0     cat\n",
       "        2     cat\n",
       "        5     cat\n",
       "        6     cat\n",
       "dog     1     dog\n",
       "        4     dog\n",
       "fish    3    fish\n",
       "Name: animal, dtype: object"
      ]
     },
     "execution_count": 23,
     "metadata": {},
     "output_type": "execute_result"
    }
   ],
   "source": [
    "df = pd.DataFrame({'animal': 'cat dog cat fish dog cat cat'.split(),\n",
    "   ....:                    'size': list('SSMMMLL'),\n",
    "   ....:                    'weight': [8, 10, 11, 1, 20, 12, 12],\n",
    "   ....:                    'adult' : [False] * 5 + [True] * 2});\n",
    "print df\n",
    "df.groupby('animal').apply(lambda subf: subf['animal'])"
   ]
  }
 ],
 "metadata": {
  "kernelspec": {
   "display_name": "Python 2",
   "language": "python",
   "name": "python2"
  },
  "language_info": {
   "codemirror_mode": {
    "name": "ipython",
    "version": 2
   },
   "file_extension": ".py",
   "mimetype": "text/x-python",
   "name": "python",
   "nbconvert_exporter": "python",
   "pygments_lexer": "ipython2",
   "version": "2.7.11"
  }
 },
 "nbformat": 4,
 "nbformat_minor": 0
}
