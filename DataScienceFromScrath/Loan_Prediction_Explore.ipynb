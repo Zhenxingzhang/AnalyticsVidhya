{
 "cells": [
  {
   "cell_type": "code",
   "execution_count": 3,
   "metadata": {
    "collapsed": false
   },
   "outputs": [
    {
     "name": "stdout",
     "output_type": "stream",
     "text": [
      "360    512\n",
      "180     44\n",
      "480     15\n",
      "300     13\n",
      "240      4\n",
      "84       4\n",
      "120      3\n",
      "60       2\n",
      "36       2\n",
      "12       1\n",
      "Name: Loan_Amount_Term, dtype: int64\n"
     ]
    }
   ],
   "source": [
    "import pandas as pd\n",
    "training_data = pd.read_csv('train_u6lujuX.csv')\n",
    "print training_data['Loan_Amount_Term'].value_counts()\n",
    "\n",
    "# training_data[training_data.apply(lambda x: x['Credit_History'] == 0 and x['Loan_Status'] == 'Y',axis = 1)]"
   ]
  }
 ],
 "metadata": {
  "kernelspec": {
   "display_name": "Python 2",
   "language": "python",
   "name": "python2"
  },
  "language_info": {
   "codemirror_mode": {
    "name": "ipython",
    "version": 2
   },
   "file_extension": ".py",
   "mimetype": "text/x-python",
   "name": "python",
   "nbconvert_exporter": "python",
   "pygments_lexer": "ipython2",
   "version": "2.7.11"
  }
 },
 "nbformat": 4,
 "nbformat_minor": 0
}
